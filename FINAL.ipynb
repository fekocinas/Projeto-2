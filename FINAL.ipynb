{
 "cells": [
  {
   "cell_type": "markdown",
   "metadata": {},
   "source": [
    "# Projeto 2 - Classificador Automático de Sentimento\n",
    "\n",
    "Em três de setembro de 2018, os visionários engenheiros André Matarazzo e Felipe Kocinas projetavam o primeiro foguete capaz de chegar ao sol. Em meio a sua fama, sucesso e boa-vontade, a consagrada dupla foi contactada pela pizzaria Domino's, quem requisitou seus intelectos para analisar o desempenho da empresa a partir de comentários sobre seus produtos encontrados na internet.\n",
    "\n",
    "A partir do conhecimento absoluto previamente adquirido na aula de ciência dos dados, a dupla recorreu ao Teorema de Bayes, classificando de forma magistral os comentários encontrados. Assim sendo, os aspirantes a vencedores do Nobel de Programação providenciaram um extraordinário relatório, que permitiu a Domino's a se tornar a pizzaria mais bem sucedida do mundo.\n",
    "\n",
    "Em meio a tal inconfundível acontecimento, os CR 1 e 2 da faculdade Insper forneceram o passo-a-passo de seu projeto, com o intuíto de sempre passar adiante o conhecimento já dominado por eles."
   ]
  },
  {
   "cell_type": "markdown",
   "metadata": {},
   "source": [
    "___\n",
    "\n",
    "## Parte I - Adquirindo a Base de Dados"
   ]
  },
  {
   "cell_type": "code",
   "execution_count": null,
   "metadata": {},
   "outputs": [],
   "source": [
    "#imports\n",
    "import pandas as pd\n",
    "import math\n",
    "#abrindo o arquivo do excel\n",
    "Dominos = pd.read_excel(\"tweets_Dominos.xlsx\")"
   ]
  },
  {
   "cell_type": "markdown",
   "metadata": {},
   "source": [
    "___\n",
    "## Parte II - Montando o Classificador Naive-Bayes\n"
   ]
  },
  {
   "cell_type": "markdown",
   "metadata": {},
   "source": [
    "*código para limpar a pontuação e outros das frases*"
   ]
  },
  {
   "cell_type": "code",
   "execution_count": 2,
   "metadata": {},
   "outputs": [],
   "source": [
    "def removepontuação(tweet):\n",
    "    tweet = tweet.replace(\",\",\"\")\n",
    "    tweet = tweet.replace(\"!\",\"\")\n",
    "    tweet = tweet.replace(\".\",\"\")\n",
    "    tweet = tweet.replace(\";\",\"\")\n",
    "    tweet = tweet.replace(\"?\",\"\")\n",
    "    tweet = tweet.replace(\"(\",\"\")\n",
    "    tweet = tweet.replace(\")\",\"\")\n",
    "    tweet = tweet.replace(\"@\",\"\")\n",
    "    tweet = tweet.replace(\"+\",\"\")\n",
    "    tweet = tweet.replace(\"'\",\"\")\n",
    "    tweet = tweet.replace(\"-\",\" \")\n",
    "    tweet = tweet.replace(\"...\",\"\")\n",
    "    tweet = tweet.replace(\"#\",\"\")\n",
    "    tweet = tweet.replace(\"\\n\",\"\")\n",
    "    tweet = tweet.replace(\"$\",\"\")\n",
    "    tweet = tweet.replace(\"%\",\"\")\n",
    "    tweet = tweet.replace(\"~\",\"\")\n",
    "    tweet = tweet.replace(\"  \",\" \")\n",
    "    tweet = tweet.replace(\"rt \",\"\")\n",
    "    tweet = tweet.replace(\"<\",\"\")\n",
    "    tweet = tweet.replace(\">\",\"\")\n",
    "    tweet = tweet.replace(\":\",\"\")\n",
    "    tweet = tweet.replace(\"'\",\"\")\n",
    "    tweet = tweet.replace(\"\\'\",\"\")\n",
    "    return tweet\n"
   ]
  },
  {
   "cell_type": "markdown",
   "metadata": {},
   "source": [
    "*código para remoção de links*"
   ]
  },
  {
   "cell_type": "code",
   "execution_count": 3,
   "metadata": {},
   "outputs": [],
   "source": [
    "def removepalavra(tweet):\n",
    "    tweetsem = removepontuação(tweet)\n",
    "    tweetlista = tweetsem.split(\" \")\n",
    "    i = 0\n",
    "    while i<len(tweetlista):\n",
    "            if len(tweetlista[i])>4:\n",
    "                 if tweetlista[i][0] == \"h\" and tweetlista[i][1] == \"t\" and tweetlista[i][2] == \"t\":\n",
    "                    del tweetlista[i]\n",
    "            i+=1  \n",
    "         \n",
    "    return tweetlista"
   ]
  },
  {
   "cell_type": "markdown",
   "metadata": {},
   "source": [
    "*lista com todos tweets do treinamento*"
   ]
  },
  {
   "cell_type": "code",
   "execution_count": 4,
   "metadata": {},
   "outputs": [],
   "source": [
    "lista = []\n",
    "for frase in Dominos.Treinamento:\n",
    "    tweetslimpos1 = removepalavra(frase)\n",
    "    lista.append(tweetslimpos1)"
   ]
  },
  {
   "cell_type": "markdown",
   "metadata": {},
   "source": [
    "*juntando o que foi considerado positivo e negativo em uma lista de tweets relevantes*"
   ]
  },
  {
   "cell_type": "code",
   "execution_count": null,
   "metadata": {},
   "outputs": [],
   "source": [
    "listarelevante = []\n",
    "for frase in Dominos.Treinamento[Dominos.Característica == 0]:\n",
    "        tweetslimpos = removepalavra(frase)\n",
    "        if tweetslimpos not in listarelevante:\n",
    "            listarelevante.append(tweetslimpos)\n",
    "\n",
    "for frase in Dominos.Treinamento[Dominos.Característica == 1]:\n",
    "        tweetslimpos = removepalavra(frase)\n",
    "        if tweetslimpos not in listarelevante:\n",
    "            listarelevante.append(tweetslimpos)"
   ]
  },
  {
   "cell_type": "markdown",
   "metadata": {},
   "source": [
    "*contabilizando os tweets irrelevantes e também colocando-os em uma lista*"
   ]
  },
  {
   "cell_type": "code",
   "execution_count": null,
   "metadata": {},
   "outputs": [],
   "source": [
    "listairrelevante = []\n",
    "for frase in Dominos.Treinamento[Dominos.Característica == 2]:\n",
    "        tweetslimpos2 = removepalavra(frase)\n",
    "        if tweetslimpos not in listairrelevante:\n",
    "            listairrelevante.append(tweetslimpos2)"
   ]
  },
  {
   "cell_type": "markdown",
   "metadata": {},
   "source": [
    "*contando quantas vezes cada palavra aparece em sua suposta lista (relevante ou irrelevante) e colocando num dicionário para cada*"
   ]
  },
  {
   "cell_type": "code",
   "execution_count": 6,
   "metadata": {},
   "outputs": [],
   "source": [
    "#dicionário relevante:\n",
    "drel = {}\n",
    "for frase in listarelevante:\n",
    "    for palavra in frase:\n",
    "        if palavra not in drel:\n",
    "            drel[palavra]=1\n",
    "        else:\n",
    "            drel[palavra]+=1\n",
    "            \n",
    "#dicionário irrelevante:\n",
    "\n",
    "dirrel = {}\n",
    "for frase in listairrelevante:\n",
    "    for palavra in frase:\n",
    "        if palavra not in dirrel:\n",
    "            dirrel[palavra]=1\n",
    "        else:\n",
    "            dirrel[palavra]+=1\n",
    "            \n"
   ]
  },
  {
   "cell_type": "markdown",
   "metadata": {},
   "source": [
    "*contando o total de palavras relevantes e irrelevantes*"
   ]
  },
  {
   "cell_type": "code",
   "execution_count": null,
   "metadata": {},
   "outputs": [],
   "source": [
    "#palavras relevantes:\n",
    "soma_palavras =  0\n",
    "for palavra in drel:\n",
    "    soma_palavras += drel[palavra]\n",
    "    \n",
    "    \n",
    "#palavras irrelevantes:\n",
    "soma_palavras1 =  0\n",
    "for palavra in dirrel:\n",
    "    soma_palavras1 += dirrel[palavra]\n",
    "    \n",
    "#soma_total:\n",
    "soma_palavras_total = soma_palavras + soma_palavras1  "
   ]
  },
  {
   "cell_type": "markdown",
   "metadata": {},
   "source": [
    "*calculando a probabilidade de ser relevante ou irrelevante*"
   ]
  },
  {
   "cell_type": "code",
   "execution_count": 41,
   "metadata": {},
   "outputs": [
    {
     "name": "stdout",
     "output_type": "stream",
     "text": [
      "269\n",
      "31\n",
      "Probabilidade de ser Relevante: 89.67%\n",
      "Probabilidade de ser Irrelevante: 10.33%\n"
     ]
    }
   ],
   "source": [
    "contador0 = Dominos.Característica[Dominos.Característica == 0].count()\n",
    "contador1 = Dominos.Característica[Dominos.Característica == 1].count()\n",
    "contador2 = Dominos.Característica[Dominos.Característica == 2].count()\n",
    "contador01 = contador0+contador1\n",
    "contadorTotal = Dominos.Característica.count()\n",
    "\n",
    "\n",
    "P_01 = (contador0+contador1)/contadorTotal \n",
    "print(contador01)\n",
    "print(contador2)\n",
    "P_2 = contador2/contadorTotal\n",
    "\n",
    "print(\"Probabilidade de ser Relevante: {:.2f}%\".format(P_01*100))\n",
    "print(\"Probabilidade de ser Irrelevante: {:.2f}%\".format(P_2*100))  "
   ]
  },
  {
   "cell_type": "markdown",
   "metadata": {},
   "source": [
    "*Montando a função principal para o funcionamento do programa*"
   ]
  },
  {
   "cell_type": "code",
   "execution_count": 36,
   "metadata": {},
   "outputs": [
    {
     "name": "stdout",
     "output_type": "stream",
     "text": [
      "('A probabilidade de um tweet ser relevante foi de 0.9533333333333334 e de ser irrelevante de 0.04666666666666667.', 'Isto ocorreu pois o número de tweets relevantes encontrados pelo programa foi de 286 e o de tweets irrelevantes foi de 14')\n"
     ]
    }
   ],
   "source": [
    "def prob(lista_de_tweets):\n",
    "    prob_relevante = 0.8972\n",
    "    prob_irrelevante = 0.1033\n",
    "    #probabilidade da frase ser relevante\n",
    "    lista_classificacao = []\n",
    "    lista_classificacao_irr = []\n",
    "    for frase in lista_de_tweets:\n",
    "        for palavra in frase:\n",
    "            soma_probir = 0.1033\n",
    "            soma_prob = 0.8972\n",
    "            #checa no dicionario dos relevantes\n",
    "            if palavra not in drel:\n",
    "                x = 1/(soma_palavras+soma_palavras_total)\n",
    "                soma_prob += math.log(x)\n",
    "            if palavra in drel:\n",
    "                x = drel[palavra]/(soma_palavras+soma_palavras_total)\n",
    "                soma_prob += math.log(x)\n",
    "            #checa no dicionario dos irrelevantes\n",
    "            if palavra not in dirrel:\n",
    "                x = 1/(soma_palavras1+soma_palavras_total)\n",
    "                \n",
    "                soma_probir += math.log(x)\n",
    "            if palavra in dirrel:\n",
    "                x = dirrel[palavra]/(soma_palavras1+soma_palavras_total)\n",
    "                soma_probir += math.log(x)\n",
    "        if soma_prob > soma_probir:\n",
    "             lista_classificacao.append(frase)\n",
    "        \n",
    "        elif soma_prob < soma_probir:\n",
    "             lista_classificacao_irr.append(frase)\n",
    "    k=len(lista_classificacao)\n",
    "    l=len(lista_classificacao_irr)\n",
    "    return (\"A probabilidade de um tweet ser relevante foi de {0} e de ser irrelevante de {1}.\".format((len(lista_classificacao))/(len(lista_de_tweets)),(len(lista_classificacao_irr))/(len(lista_de_tweets)))), (\"Isto ocorreu pois o número de tweets relevantes encontrados pelo programa foi de {0} e o de tweets irrelevantes foi de {1}\".format(k, l))\n",
    "\n",
    "print(prob(lista))"
   ]
  },
  {
   "cell_type": "markdown",
   "metadata": {},
   "source": [
    "___\n",
    "## Parte III - Verificando a performance\n",
    "\n",
    "Para verificar a performance do programa, as seguintes porcentagens foram calculadas:"
   ]
  },
  {
   "cell_type": "markdown",
   "metadata": {},
   "source": [
    "*(para atingir as conclusões abaixo, os 14 tweets de teste marcados como irrelevantes foram checados manualmente, e todos confirmaram de fato serem irrelevantes.)*"
   ]
  },
  {
   "cell_type": "markdown",
   "metadata": {},
   "source": [
    "**Porcentagem de negativos verdadeiros (marcado como não relevante e não são relevantes):**\n",
    "        Dos 14 tweets marcados como não relevantes pelo programa, todos os 14 são de fato não relevantes. Desta forma, a probabilidade é de 14/14 e portanto a porcentagem de negativos verdadeiros é de **100%**.\n",
    "        \n",
    "**Porcentagem de positivos verdadeiros (marcado como relevante e são relevantes):**\n",
    "        286 tweets relevantes foram encontrados pelo programa, porém somente 269 realmente são realmente relevantes (e estes estão na lista de relevantes, devido ao fato da lista tweets irrelevantes de fato só conter irrelevantes). Desta forma, a probabilidade é 269/286, e portanto a porcentagem de positivos verdadeiros é de **94.1%**\n",
    "        \n",
    "**Porcentagem de positivos falsos (marcados como relevante mas não são relevantes):**\n",
    "         269 tweets foram manualmente marcados como relevante, porém 286 tweets supostamente relevantes foram encontrados pelo programa. Desta forma, a probabilidade é 17/286 e portanto a porcentagem de positivos falsos é de **5.9%**.\n",
    "\n",
    "**Porcentagem de negativos falsos (marcado como não relevante e são relevantes):**\n",
    "        Dos 14 tweets marcados como não relevantes pelo programa, todos os 14 são de fato não relevantes. Desta forma, a probabilidade é 0/14, e portanto a porcentagem de negativos falsos é de **0%**."
   ]
  },
  {
   "cell_type": "markdown",
   "metadata": {
    "scrolled": true
   },
   "source": [
    "*E então, o programa foi testado com o arquivo de teste*"
   ]
  },
  {
   "cell_type": "code",
   "execution_count": 39,
   "metadata": {},
   "outputs": [],
   "source": [
    "Dominos_teste= pd.read_excel(\"tweets_Dominos.xlsx\",sheet_name=1)"
   ]
  },
  {
   "cell_type": "code",
   "execution_count": 40,
   "metadata": {},
   "outputs": [
    {
     "name": "stdout",
     "output_type": "stream",
     "text": [
      "('A probabilidade de um tweet ser relevante foi de 0.955 e de ser irrelevante de 0.045.', 'Isto ocorreu pois o número de tweets relevantes encontrados pelo programa foi de 191 e o de tweets irrelevantes foi de 9')\n"
     ]
    }
   ],
   "source": [
    "lista_teste = []\n",
    "for frase in Dominos_teste.Teste:\n",
    "    tweetslimposteste = removepalavra(frase)\n",
    "    lista_teste.append(tweetslimposteste)\n",
    "print(prob(lista_teste))"
   ]
  },
  {
   "cell_type": "markdown",
   "metadata": {},
   "source": [
    "Agora, para comparar os resultados do teste com os calculados manualmente, os quantidade de cada tweets do teste foram manualmente calculadas."
   ]
  },
  {
   "cell_type": "code",
   "execution_count": 42,
   "metadata": {},
   "outputs": [
    {
     "name": "stdout",
     "output_type": "stream",
     "text": [
      "182\n",
      "18\n",
      "Probabilidade de ser Negativo: 3.00%\n",
      "Probabilidade de ser Positivo: 88.00%\n",
      "Probabilidade de ser Irrelevante: 9.00%\n"
     ]
    }
   ],
   "source": [
    "contador0 = Dominos_teste.Característica[Dominos_teste.Característica == 0].count()\n",
    "contador1 = Dominos_teste.Característica[Dominos_teste.Característica == 1].count()\n",
    "contador2 = Dominos_teste.Característica[Dominos_teste.Característica == 2].count()\n",
    "\n",
    "\n",
    "contadorTotal = Dominos_teste.Característica.count()\n",
    "contador01 = contador0+contador1\n",
    "\n",
    "\n",
    "P_01 = (contador0+contador1)/contadorTotal \n",
    "print(contador01)\n",
    "print(contador2)\n",
    "P_0 = contador0/contadorTotal\n",
    "P_1 = contador1/contadorTotal \n",
    "P_2 = contador2/contadorTotal\n",
    "\n",
    "print(\"Probabilidade de ser Negativo: {:.2f}%\".format(P_0*100))\n",
    "print(\"Probabilidade de ser Positivo: {:.2f}%\".format(P_1*100))\n",
    "print(\"Probabilidade de ser Irrelevante: {:.2f}%\".format(P_2*100))"
   ]
  },
  {
   "cell_type": "markdown",
   "metadata": {},
   "source": [
    "*Porcentagens calculadas do arquivo de teste (comparação manual x programa), seguindo o mesmo conceitos utilizados acima.*"
   ]
  },
  {
   "cell_type": "markdown",
   "metadata": {},
   "source": [
    "Porcentagem de negativos verdadeiros (marcado como não relevante e não são relevantes): 9/9; **100%**\n",
    "\n",
    "Porcentagem de positivos verdadeiros (marcado como relevante e são relevantes): 182/191; **95.2%**\n",
    "        \n",
    "Porcentagem de positivos falsos (marcados como relevante mas não são relevantes): 9/191; **4.8**\n",
    "      \n",
    "Porcentagem de negativos falsos (marcado como não relevante e são relevantes): 0/9; **0%**"
   ]
  },
  {
   "cell_type": "markdown",
   "metadata": {},
   "source": [
    "_\n",
    "## Parte IV - Conclusão\n"
   ]
  },
  {
   "cell_type": "markdown",
   "metadata": {},
   "source": [
    "Para analisar a efetividade do programa, é necessário comparar a probabilidade de tweets relevantes e irrelevantes encontrados no programa com a real probabilidade calculada manualmente. Enquanto a probabilidade encontrada foi de 95.3% de relevância, o valor real girava em torno de 89.7%. Comparando tais números numericamente, o programa teve 94.1% de precisão (89.7/95.3), o que pode ser considerado uma precisão alta e assim sendo muito adequada para o propósito do programa (de fornecer feedback para a empresa calculando a relvância dos tweets.)\n",
    "\n",
    "Mesmo assim, o programa teve erros, como pode ser visto nos 17 tweets irrelevantes que foram marcados de fato como relevantes. Por mais não mudem muito a porcentagem de tweets relevantes (somente 17 a mais nos 269 existentes), que são os que de fato importam, mais da metade dos tweets irrelevantes foram classificados equivocadamente (17/31; 54.8%). Em uma lista de tweets com um número maior de tweets irrelevantes, o resultado poderia ser muito afetado, e a precisão desta forma seria igualmente afetada.\n",
    "\n",
    "Buscando entender o porquê da imprecisão diante dos tweets irrelevantes, algumas hipóteses podem ser levantadas. Primeiramente, o sistema construído não é um programa exato, mas sim uma aproximação feita a partir de uma série de adaptações (como a utilização da soma de log por exemplo). Uma possível melhora envolviria não a utilização da soma de log da probabilidade, mas de fato a multiplicação da probabilidade em si que resultaria em uma exatidão maior. Além disso, uma mais ampla amostra de tweets conseguiria cada vez mais atingir uma precisão absoluta, uma vez que visando o espaço amostral tendendo ao infinito. \n",
    "\n",
    "Pensando em outra razão para a imprecisão, esta pode ser entendida pela suposta incapacidade do programa de ler dupla negação e sarcasmo, uma vez que a máquina não lê o sentimento expresso por um tweet, mas busca juntar dados para concluir qual sentimento aquela junção de palavras *provavelmente* expressa.\n",
    "\n",
    "Uma vez que os grandes engenheiros André Matarazzo e Felipe Kocinas visam conquistar o planeta com sua programação, os dois possuem um plano de expandir o programa, não só classificando tweets como relevante ou não relevante mas em diversas categorias, como positivo, não positivo, delivery, gosto, etc. (visando seu contrato com a Domino's, e tais categorias que seriam feitas a partir da reaplicação do teorema de Naive Bayes).\n",
    "\n",
    "Já com uma grande fama por seus projetos prévios, beleza e carisma, os engenheiros devem ser financiados não somente por quem são, mas especificamente por sua precisão em seus programas, sua análise reflexiva de seus erros e sua constante busca pela perfeição."
   ]
  }
 ],
 "metadata": {
  "kernelspec": {
   "display_name": "Python 3",
   "language": "python",
   "name": "python3"
  },
  "language_info": {
   "codemirror_mode": {
    "name": "ipython",
    "version": 3
   },
   "file_extension": ".py",
   "mimetype": "text/x-python",
   "name": "python",
   "nbconvert_exporter": "python",
   "pygments_lexer": "ipython3",
   "version": "3.6.4"
  }
 },
 "nbformat": 4,
 "nbformat_minor": 2
}
